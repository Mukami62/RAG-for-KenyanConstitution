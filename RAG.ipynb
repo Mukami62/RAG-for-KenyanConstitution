{
 "cells": [
  {
   "cell_type": "code",
   "execution_count": null,
   "id": "58c613e4",
   "metadata": {},
   "outputs": [],
   "source": [
    "#Importing libraries\n",
    "import os\n",
    "from langchain_community.document_loaders import TextLoader, WebBaseLoader, PDFMinerLoader\n",
    "from langchain.text_splitter import MarkdownHeaderTextSplitter, RecursiveCharacterTextSplitter\n",
    "from langchain.docstore.document import Document\n",
    "from langchain_community.vectorstores import SKLearnVectorStore\n",
    "from langchain.vectorstores import Chroma\n",
    "from groq import Groq\n",
    "from langchain.chains.combine_documents.map_reduce import MapReduceDocumentsChain\n",
    "from langchain import LLMChain\n",
    "from langchain_groq import ChatGroq\n",
    "from langchain.chains import RetrievalQA\n",
    "from langchain.prompts import PromptTemplate\n",
    "from langchain_core.output_parsers import StrOutputParser\n",
    "from langchain_huggingface import HuggingFaceEmbeddings\n",
    "import requests\n",
    "import re\n",
    "import gradio as gr\n"
   ]
  },
  {
   "cell_type": "code",
   "execution_count": null,
   "id": "e57aedeb",
   "metadata": {},
   "outputs": [],
   "source": [
    "#Setting the environment\n",
    "os.environ[\"GROQ_API_KEY\"] = \"GROQ_API_KEY\""
   ]
  },
  {
   "cell_type": "code",
   "execution_count": null,
   "id": "eb7e1d3a",
   "metadata": {},
   "outputs": [],
   "source": [
    "#Loading the constitution\n",
    "url = \"https://www.parliament.go.ke/sites/default/files/2017-05/The_Constitution_of_Kenya_2010.pdf\"\n",
    "r = requests.get(url)\n",
    "with open(\"constitution.pdf\", \"wb\") as f:\n",
    "    f.write(r.content)\n",
    "    \n",
    "loader = PDFMinerLoader(\"constitution.pdf\")\n",
    "docs_list = loader.load() "
   ]
  },
  {
   "cell_type": "code",
   "execution_count": null,
   "id": "130ca56d",
   "metadata": {},
   "outputs": [],
   "source": [
    "#Splitting the document into chuncks\n",
    "text_splitter = RecursiveCharacterTextSplitter.from_tiktoken_encoder(\n",
    "    chunk_size=1500,\n",
    "    chunk_overlap=500,\n",
    "    separators=[\"ARTICLE\", \"CHAPTER\", \"\\n\\n\"])\n",
    "\n",
    "doc_splits = text_splitter.split_documents(docs_list)"
   ]
  },
  {
   "cell_type": "code",
   "execution_count": 5,
   "id": "0ff85961",
   "metadata": {},
   "outputs": [],
   "source": [
    "#Embedding the documents and storing  them in a vector store\n",
    "embeddings = HuggingFaceEmbeddings(model_name=\"all-MiniLM-L6-v2\")\n",
    "vectorstore = Chroma.from_documents(\n",
    "    documents=doc_splits,          \n",
    "    embedding=embeddings,\n",
    "    persist_directory=\"constitution_index\"\n",
    ")\n",
    "\n",
    "retriever = vectorstore.as_retriever(\n",
    "    search_kwargs={\n",
    "        \"k\": 3\n",
    "    }\n",
    ")"
   ]
  },
  {
   "cell_type": "code",
   "execution_count": 6,
   "id": "615c187d",
   "metadata": {},
   "outputs": [],
   "source": [
    "llm = ChatGroq(\n",
    "    model=\"llama-3.1-8b-instant\",\n",
    "    temperature = 0,\n",
    "    max_tokens=500\n",
    ")"
   ]
  },
  {
   "cell_type": "code",
   "execution_count": 7,
   "id": "e834bf15",
   "metadata": {},
   "outputs": [],
   "source": [
    "prompt = PromptTemplate(\n",
    "    template=\"\"\"\n",
    "You are an assistant for question-answering Kenyan constitution tasks.\n",
    "Use the following documents to answer the question.\n",
    "If you don't know the answer, just say that you don't know.\n",
    "Question: {question}\n",
    "Documents: {documents}\n",
    "Answer:\n",
    "\"\"\",\n",
    "input_variables=[\"question\", \"documents\"]\n",
    ")\n",
    "\n"
   ]
  },
  {
   "cell_type": "code",
   "execution_count": 8,
   "id": "7df464c7",
   "metadata": {},
   "outputs": [],
   "source": [
    "rag_chain = prompt | llm | StrOutputParser()"
   ]
  },
  {
   "cell_type": "code",
   "execution_count": 9,
   "id": "3441d785",
   "metadata": {},
   "outputs": [],
   "source": [
    "class RAGApplication:\n",
    "    def __init__(self, retriever, rag_chain):\n",
    "        self.retriever = retriever\n",
    "        self.rag_chain = rag_chain\n",
    "\n",
    "    def run(self, question):\n",
    "        documents = self.retriever.invoke(question)\n",
    "        doc_texts = \"\\n\".join([doc.page_content for doc in documents])\n",
    "        \n",
    "        # Get the answer from the LLM\n",
    "        answer = self.rag_chain.invoke({\"question\": question, \"documents\": doc_texts})\n",
    "        return answer\n"
   ]
  },
  {
   "cell_type": "code",
   "execution_count": 10,
   "id": "3403f22a",
   "metadata": {},
   "outputs": [
    {
     "name": "stdout",
     "output_type": "stream",
     "text": [
      "Answer: According to Article 103 of the Constitution of Kenya, 2010, the grounds for losing a seat in Parliament are:\n",
      "\n",
      "(a) if the member dies;\n",
      "(b) if, during any session of Parliament, the member is absent from eight sittings of the relevant House without permission, in writing, from the Speaker, and is unable to offer a satisfactory explanation for the absence to the relevant committee;\n",
      "(c) if the member is otherwise removed from office under this Constitution or legislation enacted under Article 80;\n",
      "(d) if the member resigns from Parliament in writing to the Speaker;\n",
      "(e) if, having been elected to Parliament—\n",
      "(i) as a member of a political party, the member resigns from that party or is deemed to have resigned from the party as determined in accordance with the legislation contemplated in clause (2); or\n",
      "(ii) as an independent candidate, the member joins a political party;\n",
      "(f) at the end of the term of the relevant House; or\n",
      "(g) if the member becomes disqualified for election to Parliament under Article 99 (2) (d) to (h).\n",
      "\n",
      "Additionally, Article 104 provides for the right of recall, which allows the electorate to recall a member of Parliament before the end of the term of the relevant House.\n",
      "\n",
      "Article 105 provides for the determination of questions of membership, which allows the High Court to hear and determine any question whether a person has been validly elected as a member of Parliament or whether the seat of a member has become vacant.\n",
      "\n",
      "It's worth noting that the term of Parliament shall not be extended under Article 2 for a total of more than twelve months.\n"
     ]
    }
   ],
   "source": [
    "rag_app = RAGApplication(retriever, rag_chain)\n",
    "\n",
    "question = \"What are grounds for losing a seat?\"\n",
    "answer = rag_app.run(question)\n",
    "\n",
    "print(\"Answer:\", answer)"
   ]
  },
  {
   "cell_type": "code",
   "execution_count": 11,
   "id": "78d4a811",
   "metadata": {},
   "outputs": [],
   "source": [
    "def ask(question):\n",
    "    answer = rag_app.run(question)\n",
    "    print(\"Answer:\", answer)\n",
    "\n"
   ]
  },
  {
   "cell_type": "code",
   "execution_count": 12,
   "id": "d202bfa5",
   "metadata": {},
   "outputs": [
    {
     "name": "stdout",
     "output_type": "stream",
     "text": [
      "Answer: The Bill of Rights in the Kenyan Constitution guarantees the following rights:\n",
      "\n",
      "1. Right to life (Article 26)\n",
      "2. Equality and freedom from discrimination (Article 27)\n",
      "3. Human dignity (Article 28)\n",
      "4. Freedom and security of the person (Article 29)\n",
      "5. Freedom from slavery, servitude, and forced labor (Article 30)\n",
      "6. Right to privacy (Article 31)\n",
      "7. Freedom of conscience, religion, belief, and opinion (Article 32)\n",
      "8. Freedom of expression (Article 33)\n",
      "9. Freedom of the media (Article 34)\n",
      "10. Right to access information (Article 35)\n",
      "11. Freedom of association (Article 36)\n",
      "12. Right to assemble, demonstrate, picket, and petition (Article 37)\n",
      "13. Political rights (Article 38)\n",
      "14. Freedom of movement and residence (Article 39)\n",
      "15. Protection of the right to property (Article 40)\n",
      "16. Labor relations (Article 41)\n",
      "17. Right to a clean and healthy environment (Article 42)\n",
      "18. Economic and social rights (Article 43)\n",
      "19. Right to language and culture (Article 44)\n",
      "20. Right to family (Article 45)\n",
      "21. Consumer rights (Article 46)\n",
      "22. Right to fair administrative action (Article 47)\n",
      "23. Right to access to justice (Article 48)\n",
      "24. Rights of arrested persons (Article 49)\n",
      "25. Right to a fair hearing (Article 50)\n",
      "26. Rights of persons detained, held in custody, or imprisoned (Article 51)\n",
      "\n",
      "The Constitution protects these rights by:\n",
      "\n",
      "1. Declaring the Bill of Rights as an integral part of Kenya's democratic state (Article 19)\n",
      "2. Providing that the rights and fundamental freedoms in the Bill of Rights belong to each individual and are not granted by the State (Article 19)\n",
      "3. Ensuring that the Bill of Rights applies to all law and binds all State organs and all persons (Article 20)\n",
      "4. Providing for the progressive realization of economic and social rights (Article 21)\n",
      "5. Allowing individuals to institute court proceedings claiming that a right or fundamental freedom has been denied, violated, or infringed (Article 22)\n",
      "6. Granting the High Court jurisdiction to hear and determine applications for redress of a denial, violation, or infringement of, or threat to, a right or fundamental freedom in the Bill of Rights (Article\n"
     ]
    }
   ],
   "source": [
    "ask(\"Which rights are guaranteed under the Bill of Rights, and how does the Constitution protect these rights?\")"
   ]
  },
  {
   "cell_type": "code",
   "execution_count": 13,
   "id": "1b582f1f",
   "metadata": {},
   "outputs": [
    {
     "name": "stdout",
     "output_type": "stream",
     "text": [
      "Answer: According to the Constitution of Kenya, 2010, the types of lands recognized are:\n",
      "\n",
      "1. **Public land**: This includes land that belongs to the people of Kenya collectively as a nation, communities, and individuals. Public land is classified into several categories, including:\n",
      "\t* Land that was unalienated government land at the effective date.\n",
      "\t* Land lawfully held, used, or occupied by any State organ.\n",
      "\t* Land transferred to the State by way of sale, reversion, or surrender.\n",
      "\t* Land in respect of which no individual or community ownership can be established.\n",
      "\t* Land in respect of which no heir can be identified.\n",
      "\t* Minerals and mineral oils.\n",
      "\t* Government forests, game reserves, water catchment areas, national parks, animal sanctuaries, and specially protected areas.\n",
      "\t* Roads and thoroughfares.\n",
      "\t* Rivers, lakes, and other water bodies.\n",
      "\t* The territorial sea, exclusive economic zone, and seabed.\n",
      "\t* The continental shelf.\n",
      "\t* Land between the high and low water marks.\n",
      "\t* Any land not classified as private or community land.\n",
      "2. **Community land**: This includes land that vests in and is held by communities identified on the basis of ethnicity, culture, or similar community of interest. Community land consists of:\n",
      "\t* Land lawfully registered in the name of group representatives.\n",
      "\t* Land lawfully transferred to a specific community.\n",
      "\t* Any other land declared to be community land by an Act of Parliament.\n",
      "\t* Land lawfully held, managed, or used by specific communities as community forests, grazing areas, or shrines.\n",
      "\t* Ancestral lands and lands traditionally occupied by hunter-gatherer communities.\n",
      "\t* Land lawfully held as trust land by county governments.\n",
      "3. **Private land**: This includes land that is registered or held by any person under freehold or leasehold tenure.\n"
     ]
    }
   ],
   "source": [
    "ask(\"What are the types of lands recognized?\")"
   ]
  },
  {
   "cell_type": "code",
   "execution_count": 16,
   "id": "ce672bde",
   "metadata": {},
   "outputs": [
    {
     "name": "stdout",
     "output_type": "stream",
     "text": [
      "* Running on local URL:  http://127.0.0.1:7862\n",
      "* To create a public link, set `share=True` in `launch()`.\n"
     ]
    },
    {
     "data": {
      "text/html": [
       "<div><iframe src=\"http://127.0.0.1:7862/\" width=\"100%\" height=\"500\" allow=\"autoplay; camera; microphone; clipboard-read; clipboard-write;\" frameborder=\"0\" allowfullscreen></iframe></div>"
      ],
      "text/plain": [
       "<IPython.core.display.HTML object>"
      ]
     },
     "metadata": {},
     "output_type": "display_data"
    }
   ],
   "source": [
    "def gradio_interface(query: str):\n",
    "    answer = rag_app.run(query)\n",
    "    return (answer\n",
    "    )\n",
    "\n",
    "# Build the Gradio app\n",
    "gui = gr.Interface(\n",
    "    fn=gradio_interface,\n",
    "    theme='Yntec/HaleyCH_Theme_Orange_Green',\n",
    "    inputs=gr.Textbox(lines=2, placeholder=\"Enter your query here...\"),\n",
    "    outputs=gr.Markdown(),\n",
    "    title=\"Kenyan Constitution RAG\",\n",
    "    description=\"Provide a query and receive a response based on the Kenyan Constitution\",\n",
    ")\n",
    "\n",
    "# Launch the app\n",
    "if __name__ == \"__main__\":\n",
    "    gui.launch()"
   ]
  }
 ],
 "metadata": {
  "kernelspec": {
   "display_name": "base",
   "language": "python",
   "name": "python3"
  },
  "language_info": {
   "codemirror_mode": {
    "name": "ipython",
    "version": 3
   },
   "file_extension": ".py",
   "mimetype": "text/x-python",
   "name": "python",
   "nbconvert_exporter": "python",
   "pygments_lexer": "ipython3",
   "version": "3.13.5"
  }
 },
 "nbformat": 4,
 "nbformat_minor": 5
}
