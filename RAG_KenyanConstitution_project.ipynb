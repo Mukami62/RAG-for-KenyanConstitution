{
 "cells": [
  {
   "cell_type": "code",
   "execution_count": 27,
   "id": "e635cdd4",
   "metadata": {},
   "outputs": [],
   "source": [
    "import os\n",
    "from langchain_community.document_loaders import TextLoader, WebBaseLoader, PDFMinerLoader\n",
    "from langchain.text_splitter import MarkdownHeaderTextSplitter, RecursiveCharacterTextSplitter\n",
    "from langchain.docstore.document import Document\n",
    "from langchain_community.vectorstores import SKLearnVectorStore\n",
    "from langchain.vectorstores import Chroma\n",
    "from groq import Groq\n",
    "from langchain.chains.combine_documents.map_reduce import MapReduceDocumentsChain\n",
    "from langchain import LLMChain\n",
    "from langchain_groq import ChatGroq\n",
    "from langchain.chains import RetrievalQA\n",
    "from langchain.prompts import PromptTemplate\n",
    "from langchain_core.output_parsers import StrOutputParser\n",
    "from langchain_huggingface import HuggingFaceEmbeddings\n",
    "import requests\n",
    "import re\n"
   ]
  },
  {
   "cell_type": "code",
   "execution_count": null,
   "id": "78c3b12e",
   "metadata": {},
   "outputs": [],
   "source": [
    "os.environ[\"GROQ_API_KEY\"] = \"groq_API_key\""
   ]
  },
  {
   "cell_type": "code",
   "execution_count": 29,
   "id": "7942d2ef",
   "metadata": {},
   "outputs": [],
   "source": [
    "\n",
    "url = \"https://www.parliament.go.ke/sites/default/files/2017-05/The_Constitution_of_Kenya_2010.pdf\"\n",
    "r = requests.get(url)\n",
    "with open(\"constitution.pdf\", \"wb\") as f:\n",
    "    f.write(r.content)\n",
    "    \n",
    "loader = PDFMinerLoader(\"constitution.pdf\")\n",
    "docs_list = loader.load() "
   ]
  },
  {
   "cell_type": "code",
   "execution_count": 30,
   "id": "23db1a27",
   "metadata": {},
   "outputs": [],
   "source": [
    "text_splitter = RecursiveCharacterTextSplitter.from_tiktoken_encoder(\n",
    "    chunk_size=1500,\n",
    "    chunk_overlap=500,\n",
    "    separators=[\"ARTICLE\", \"CHAPTER\", \"\\n\\n\"])\n",
    "\n",
    "doc_splits = text_splitter.split_documents(docs_list)"
   ]
  },
  {
   "cell_type": "code",
   "execution_count": 31,
   "id": "69161185",
   "metadata": {},
   "outputs": [],
   "source": [
    "#Embedding the documents and storing  them in a vector store\n",
    "embeddings = HuggingFaceEmbeddings(model_name=\"all-MiniLM-L6-v2\")\n",
    "vectorstore = Chroma.from_documents(\n",
    "    documents=doc_splits,          \n",
    "    embedding=embeddings,\n",
    "    persist_directory=\"constitution_index\"\n",
    ")\n",
    "\n",
    "retriever = vectorstore.as_retriever(\n",
    "    search_kwargs={\n",
    "        \"k\": 5\n",
    "    }\n",
    ")"
   ]
  },
  {
   "cell_type": "code",
   "execution_count": null,
   "id": "4d11f678",
   "metadata": {},
   "outputs": [],
   "source": [
    "llm = ChatGroq(\n",
    "    model=\"llama-3.1-8b-instant\",\n",
    "    temperature = 0\n",
    "    max_tokens=500\n",
    ")"
   ]
  },
  {
   "cell_type": "code",
   "execution_count": 33,
   "id": "9e8ea6ea",
   "metadata": {},
   "outputs": [],
   "source": [
    "prompt = PromptTemplate(\n",
    "    template=\"\"\"\n",
    "You are an assistant for question-answering Kenyan constitution tasks.\n",
    "Use the following documents to answer the question.\n",
    "If you don't know the answer, just say that you don't know.\n",
    "Question: {question}\n",
    "Documents: {documents}\n",
    "Answer:\n",
    "\"\"\",\n",
    "input_variables=[\"question\", \"documents\"]\n",
    ")\n"
   ]
  },
  {
   "cell_type": "code",
   "execution_count": 34,
   "id": "f591316f",
   "metadata": {},
   "outputs": [],
   "source": [
    "rag_chain = prompt | llm | StrOutputParser()"
   ]
  },
  {
   "cell_type": "code",
   "execution_count": 35,
   "id": "d8c5f8a4",
   "metadata": {},
   "outputs": [],
   "source": [
    "class RAGApplication:\n",
    "    def __init__(self, retriever, rag_chain):\n",
    "        self.retriever = retriever\n",
    "        self.rag_chain = rag_chain\n",
    "\n",
    "    def run(self, question):\n",
    "        documents = self.retriever.invoke(question)\n",
    "        doc_texts = \"\\n\".join([doc.page_content for doc in documents])\n",
    "        \n",
    "        # Get the answer from the LLM\n",
    "        answer = self.rag_chain.invoke({\"question\": question, \"documents\": doc_texts})\n",
    "        return answer\n"
   ]
  },
  {
   "cell_type": "code",
   "execution_count": 44,
   "id": "98e15354",
   "metadata": {},
   "outputs": [
    {
     "name": "stdout",
     "output_type": "stream",
     "text": [
      "Answer: According to Article 194 of the Kenyan Constitution, the grounds for losing a seat in the county assembly are as follows:\n",
      "\n",
      "- If the member dies (194(1)(a))\n",
      "- If the member is absent from eight sittings of the assembly without permission and is unable to offer a satisfactory explanation (194(1)(b))\n",
      "- If the member is removed from office under the Constitution or legislation enacted under Article 80 (194(1)(c))\n",
      "- If the member resigns in writing addressed to the speaker of the assembly (194(1)(d))\n",
      "- If the member is elected as a member of a political party and resigns from the party (194(1)(e)(i))\n",
      "- If the member is elected as an independent candidate and joins a political party (194(1)(e)(ii))\n",
      "- At the end of the term of the assembly (194(1)(f))\n",
      "- If the member becomes disqualified for election on grounds specified in Article 193(2) (194(1)(g))\n"
     ]
    }
   ],
   "source": [
    "rag_app = RAGApplication(retriever, rag_chain)\n",
    "\n",
    "question = \"What are grounds for losing a seat?\"\n",
    "answer = rag_app.run(question)\n",
    "\n",
    "print(\"Answer:\", answer)"
   ]
  },
  {
   "cell_type": "code",
   "execution_count": 37,
   "id": "aa776b94",
   "metadata": {},
   "outputs": [],
   "source": [
    "def ask(question):\n",
    "    answer = rag_app.run(question)\n",
    "    print(\"Answer:\", answer)\n",
    "\n"
   ]
  },
  {
   "cell_type": "code",
   "execution_count": 38,
   "id": "215ea103",
   "metadata": {},
   "outputs": [
    {
     "name": "stdout",
     "output_type": "stream",
     "text": [
      "Answer: According to the Constitution of Kenya, 2010, the children's rights are as follows:\n",
      "\n",
      "1. To a name and nationality from birth.\n",
      "2. To free and compulsory basic education.\n",
      "3. To basic nutrition, shelter, and health care.\n",
      "4. To be protected from:\n",
      "   - Abuse\n",
      "   - Neglect\n",
      "   - Harmful cultural practices\n",
      "   - All forms of violence\n",
      "   - Inhuman treatment and punishment\n",
      "   - Hazardous or exploitative labor\n"
     ]
    }
   ],
   "source": [
    "ask(\"What are the children rights ?\")"
   ]
  },
  {
   "cell_type": "code",
   "execution_count": 45,
   "id": "5bc7e030",
   "metadata": {},
   "outputs": [
    {
     "name": "stdout",
     "output_type": "stream",
     "text": [
      "Answer: According to the Kenyan constitution, a person shall not hold office as President for more than two terms.\n"
     ]
    }
   ],
   "source": [
    "ask(\"What is the term limit of a president?\")"
   ]
  },
  {
   "cell_type": "code",
   "execution_count": 42,
   "id": "61326e18",
   "metadata": {},
   "outputs": [
    {
     "name": "stdout",
     "output_type": "stream",
     "text": [
      "Answer: Based on Article 63 of the Constitution of Kenya, 2010, the types of lands recognized are:\n",
      "\n",
      "1. (c) land transferred to the State by way of sale, reversion or surrender;\n",
      "2. (d) land in respect of which no individual or community ownership can be established by any legal process;\n",
      "3. (e) land in respect of which no heir can be identified by any legal process;\n",
      "4. (f) all minerals and mineral oils as defined by law;\n",
      "5. (g) government forests other than forests to which Article 63 (2) (d) (i) applies, government game reserves, water catchment areas, national parks, government animal sanctuaries, and specially protected areas;\n",
      "6. (h) all roads and thoroughfares provided for by an Act of Parliament;\n",
      "7. (i) all rivers, lakes and other water bodies as defined by an Act of Parliament;\n",
      "8. (j) the territorial sea, the exclusive economic zone and the sea bed;\n",
      "9. (k) the continental shelf;\n",
      "10. (l) all land between the high and low water marks;\n",
      "11. (m) any land not classified as private or community land under this Constitution;\n",
      "12. (n) any other land declared to be public land by an Act of Parliament.\n"
     ]
    }
   ],
   "source": [
    "ask(\"What are the types of lands recognized?\")"
   ]
  },
  {
   "cell_type": "code",
   "execution_count": 43,
   "id": "b04ab696",
   "metadata": {},
   "outputs": [
    {
     "name": "stdout",
     "output_type": "stream",
     "text": [
      "Answer: Based on the provided documents, the institutions responsible for land management are:\n",
      "\n",
      "1. National Land Commission (Article 67 of the Constitution and the functions listed below)\n",
      "\n",
      "The National Land Commission has the following functions:\n",
      "\n",
      "- (a) to manage public land on behalf of the national and county governments\n",
      "- (b) to recommend a national land policy to the national government\n",
      "- (c) to advise the national government on a comprehensive programme for the registration of title in land throughout Kenya\n",
      "- (d) to conduct research related to land and the use of natural resources, and make recommendations to appropriate authorities\n",
      "- (e) to initiate investigations, on its own initiative or on a complaint, into present or historical land injustices, and recommend appropriate redress\n",
      "- (f) to encourage the application of traditional dispute resolution mechanisms in land conflicts\n",
      "- (g) to assess tax on land and premiums on immovable property in any area designated by law\n",
      "- (h) to monitor and have oversight responsibilities over land use planning throughout the country.\n",
      "\n",
      "Therefore, the National Land Commission is the primary institution responsible for land management in Kenya.\n"
     ]
    }
   ],
   "source": [
    "ask(\"What institutions are responsible for land management\")"
   ]
  }
 ],
 "metadata": {
  "kernelspec": {
   "display_name": "base",
   "language": "python",
   "name": "python3"
  },
  "language_info": {
   "codemirror_mode": {
    "name": "ipython",
    "version": 3
   },
   "file_extension": ".py",
   "mimetype": "text/x-python",
   "name": "python",
   "nbconvert_exporter": "python",
   "pygments_lexer": "ipython3",
   "version": "3.13.5"
  }
 },
 "nbformat": 4,
 "nbformat_minor": 5
}
